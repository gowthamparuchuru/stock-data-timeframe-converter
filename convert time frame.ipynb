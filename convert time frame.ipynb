{
 "cells": [
  {
   "cell_type": "code",
   "execution_count": 1,
   "metadata": {},
   "outputs": [],
   "source": [
    "import numpy as np\n",
    "import pandas as pd\n",
    "import time\n",
    "from datetime import datetime"
   ]
  },
  {
   "cell_type": "code",
   "execution_count": 2,
   "metadata": {},
   "outputs": [
    {
     "data": {
      "text/html": [
       "<div>\n",
       "<style scoped>\n",
       "    .dataframe tbody tr th:only-of-type {\n",
       "        vertical-align: middle;\n",
       "    }\n",
       "\n",
       "    .dataframe tbody tr th {\n",
       "        vertical-align: top;\n",
       "    }\n",
       "\n",
       "    .dataframe thead th {\n",
       "        text-align: right;\n",
       "    }\n",
       "</style>\n",
       "<table border=\"1\" class=\"dataframe\">\n",
       "  <thead>\n",
       "    <tr style=\"text-align: right;\">\n",
       "      <th></th>\n",
       "      <th>Open</th>\n",
       "      <th>High</th>\n",
       "      <th>Low</th>\n",
       "      <th>Close</th>\n",
       "    </tr>\n",
       "    <tr>\n",
       "      <th>Date</th>\n",
       "      <th></th>\n",
       "      <th></th>\n",
       "      <th></th>\n",
       "      <th></th>\n",
       "    </tr>\n",
       "  </thead>\n",
       "  <tbody>\n",
       "    <tr>\n",
       "      <th>2017-05-08 09:15:00</th>\n",
       "      <td>296.15</td>\n",
       "      <td>296.65</td>\n",
       "      <td>295.10</td>\n",
       "      <td>295.95</td>\n",
       "    </tr>\n",
       "    <tr>\n",
       "      <th>2017-05-08 09:16:00</th>\n",
       "      <td>295.95</td>\n",
       "      <td>296.55</td>\n",
       "      <td>295.90</td>\n",
       "      <td>296.00</td>\n",
       "    </tr>\n",
       "    <tr>\n",
       "      <th>2017-05-08 09:17:00</th>\n",
       "      <td>296.00</td>\n",
       "      <td>296.15</td>\n",
       "      <td>294.80</td>\n",
       "      <td>295.10</td>\n",
       "    </tr>\n",
       "    <tr>\n",
       "      <th>2017-05-08 09:18:00</th>\n",
       "      <td>295.20</td>\n",
       "      <td>295.45</td>\n",
       "      <td>294.95</td>\n",
       "      <td>295.00</td>\n",
       "    </tr>\n",
       "    <tr>\n",
       "      <th>2017-05-08 09:19:00</th>\n",
       "      <td>295.00</td>\n",
       "      <td>295.50</td>\n",
       "      <td>294.90</td>\n",
       "      <td>295.35</td>\n",
       "    </tr>\n",
       "  </tbody>\n",
       "</table>\n",
       "</div>"
      ],
      "text/plain": [
       "                       Open    High     Low   Close\n",
       "Date                                               \n",
       "2017-05-08 09:15:00  296.15  296.65  295.10  295.95\n",
       "2017-05-08 09:16:00  295.95  296.55  295.90  296.00\n",
       "2017-05-08 09:17:00  296.00  296.15  294.80  295.10\n",
       "2017-05-08 09:18:00  295.20  295.45  294.95  295.00\n",
       "2017-05-08 09:19:00  295.00  295.50  294.90  295.35"
      ]
     },
     "execution_count": 2,
     "metadata": {},
     "output_type": "execute_result"
    }
   ],
   "source": [
    "f=open(\"data/SBIN.txt\", \"r\")\n",
    "\n",
    "data=pd.DataFrame(columns=['Date','Open','High','Low','Close'])\n",
    "\n",
    "for line in f:\n",
    "    row=line.split(\" \")\n",
    "    row[0]=row[0]+\" \"+row[1]\n",
    "    row.pop(1)\n",
    "    data.loc[len(data)]=row[:-1]\n",
    "    \n",
    "data['Date']=pd.to_datetime(data['Date'], format='%Y-%m-%d %H:%M:%S')\n",
    "data['Open']=data['Open'].astype(float)\n",
    "data['Close']=data['Close'].astype(float)\n",
    "data['High']=data['High'].astype(float)\n",
    "data['Low']=data['Low'].astype(float)\n",
    "data = data.set_index('Date')\n",
    "data.head()"
   ]
  },
  {
   "cell_type": "code",
   "execution_count": 3,
   "metadata": {},
   "outputs": [],
   "source": [
    "ohlc_dict = {                                                                                                             \n",
    "'Open':'first',                                                                                                    \n",
    "'High':'max',                                                                                                       \n",
    "'Low':'min',                                                                                                        \n",
    "'Close': 'last',\n",
    "}\n",
    "\n",
    "data = data.resample('15min').agg(ohlc_dict, closed='left', label='left').dropna()"
   ]
  },
  {
   "cell_type": "code",
   "execution_count": 4,
   "metadata": {},
   "outputs": [
    {
     "data": {
      "text/plain": [
       "796"
      ]
     },
     "execution_count": 4,
     "metadata": {},
     "output_type": "execute_result"
    }
   ],
   "source": [
    "len(data)"
   ]
  },
  {
   "cell_type": "code",
   "execution_count": 5,
   "metadata": {},
   "outputs": [],
   "source": [
    "data.to_csv('data/sbin_15min.csv')"
   ]
  }
 ],
 "metadata": {
  "kernelspec": {
   "display_name": "Python 3",
   "language": "python",
   "name": "python3"
  },
  "language_info": {
   "codemirror_mode": {
    "name": "ipython",
    "version": 3
   },
   "file_extension": ".py",
   "mimetype": "text/x-python",
   "name": "python",
   "nbconvert_exporter": "python",
   "pygments_lexer": "ipython3",
   "version": "3.7.7"
  }
 },
 "nbformat": 4,
 "nbformat_minor": 4
}
